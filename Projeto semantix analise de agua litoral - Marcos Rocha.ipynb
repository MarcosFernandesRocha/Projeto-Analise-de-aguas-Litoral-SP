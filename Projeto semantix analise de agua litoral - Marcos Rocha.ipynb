{
 "cells": [
  {
   "cell_type": "markdown",
   "id": "8e6cccb8-1ea7-4133-a674-2a33c1af90f3",
   "metadata": {},
   "source": [
    "## Projeto Semantix: Análise de qualidade das águas do litoral em São Paulo "
   ]
  },
  {
   "cell_type": "markdown",
   "id": "906eb8f3-5ebc-4658-aab4-e4ab88ba801b",
   "metadata": {},
   "source": [
    "### Uma breve descrição do problema\n",
    "\n",
    "Nesse projeto iremos analisar a qualidades das águas do litoral norte de São Paulo de acordo com a presença de bactérias do gênero Enterococcus spp. \n",
    "Os micro-organismos do gênero Enterococcus constituem uma grande proporção das bactérias naturais da microbiota do trato gastrointestinal da maioria dos mamíferos, aves, répteis e insetos. São ubiquitários e podem ser encontrados amplamente distribuídos no meio ambiente, em solos, água, plantas e alimentos. O Aumento dos níveis de concetração desse microrganismos indica um nível de poluição fecal e também representa um risco à saúde dos banhistas. As medições são realizadas semanalmente em diversas praias do estado de São Paulo e são utilizadas para classificar as praias como ‘Próprias’ ou ‘Impróprias’ para banho. \n",
    "A mensuração das águas é feita realizando a contagem de Unidades Formadoras de Colônia (UFCs) a cada 100ml de água. As contagens foram realizadas semanalmente em diversas praias do estado de São Paulo entre 2012 e 2021.  "
   ]
  },
  {
   "cell_type": "markdown",
   "id": "8dafd8b9-9d8a-41c1-ab96-caf70ca19da6",
   "metadata": {},
   "source": [
    "| Coluna  | Descrição |\n",
    "| ------- | --------- |\n",
    "| City     | Cidade do Litoral Norte de SP |\n",
    "| Beach | Praia |\n",
    "| Date   | Data da medição |\n",
    "| Enterococcus    | Densidade de Enterococcus (UFC/100ml) |\n"
   ]
  },
  {
   "cell_type": "code",
   "execution_count": 61,
   "id": "225f262e-692e-43d8-805f-c73896181b31",
   "metadata": {},
   "outputs": [],
   "source": [
    "#importando as bibliotecas necessárias para a análise\n",
    "import pandas as pd\n",
    "import numpy as np"
   ]
  },
  {
   "cell_type": "code",
   "execution_count": 67,
   "id": "f4c5c110-a3d2-4607-ac73-076aa0e303bb",
   "metadata": {},
   "outputs": [],
   "source": [
    "#carregamento do arquivo necessário\n",
    "\n",
    "analise_aguas = pd.read_csv('sp_beaches.csv')"
   ]
  },
  {
   "cell_type": "code",
   "execution_count": 69,
   "id": "7d055238-e962-4a97-875a-de6678a8eaa2",
   "metadata": {},
   "outputs": [
    {
     "data": {
      "text/plain": [
       "(74056, 4)"
      ]
     },
     "execution_count": 69,
     "metadata": {},
     "output_type": "execute_result"
    }
   ],
   "source": [
    "#realizando algumas verificações no Dataframe\n",
    "\n",
    "analise_aguas.shape\n"
   ]
  },
  {
   "cell_type": "code",
   "execution_count": 71,
   "id": "5426e800-5461-4a5d-be7b-1b83a1dd72df",
   "metadata": {},
   "outputs": [
    {
     "data": {
      "text/plain": [
       "City           Beach                    Date        Enterococcus\n",
       "BERTIOGA       BORACÉIA - COL. MARISTA  2012-01-03  8.0             1\n",
       "SÃO SEBASTIÃO  BORACÉIA - R. CUBATÃO    2015-08-09  3.0             1\n",
       "                                        2016-08-07  1.0             1\n",
       "                                        2016-07-31  1.0             1\n",
       "                                        2016-07-24  1.0             1\n",
       "                                                                   ..\n",
       "ILHABELA       PORTINHO                 2012-07-01  144.0           1\n",
       "                                        2012-06-24  22.0            1\n",
       "                                        2012-06-17  27.0            1\n",
       "                                        2012-06-10  212.0           1\n",
       "UBATUBA        VERMELHA DO NORTE        2021-07-19  1.0             1\n",
       "Name: count, Length: 74056, dtype: int64"
      ]
     },
     "execution_count": 71,
     "metadata": {},
     "output_type": "execute_result"
    }
   ],
   "source": [
    "analise_aguas.value_counts()\n"
   ]
  },
  {
   "cell_type": "code",
   "execution_count": 75,
   "id": "f3569e1e-b8b8-4569-b9c4-15105b5d4747",
   "metadata": {},
   "outputs": [
    {
     "data": {
      "text/html": [
       "<div>\n",
       "<style scoped>\n",
       "    .dataframe tbody tr th:only-of-type {\n",
       "        vertical-align: middle;\n",
       "    }\n",
       "\n",
       "    .dataframe tbody tr th {\n",
       "        vertical-align: top;\n",
       "    }\n",
       "\n",
       "    .dataframe thead th {\n",
       "        text-align: right;\n",
       "    }\n",
       "</style>\n",
       "<table border=\"1\" class=\"dataframe\">\n",
       "  <thead>\n",
       "    <tr style=\"text-align: right;\">\n",
       "      <th></th>\n",
       "      <th>City</th>\n",
       "      <th>Beach</th>\n",
       "      <th>Date</th>\n",
       "      <th>Enterococcus</th>\n",
       "    </tr>\n",
       "  </thead>\n",
       "  <tbody>\n",
       "    <tr>\n",
       "      <th>0</th>\n",
       "      <td>BERTIOGA</td>\n",
       "      <td>BORACÉIA - COL. MARISTA</td>\n",
       "      <td>2012-01-03</td>\n",
       "      <td>8.0</td>\n",
       "    </tr>\n",
       "    <tr>\n",
       "      <th>1</th>\n",
       "      <td>BERTIOGA</td>\n",
       "      <td>BORACÉIA - COL. MARISTA</td>\n",
       "      <td>2012-01-08</td>\n",
       "      <td>22.0</td>\n",
       "    </tr>\n",
       "    <tr>\n",
       "      <th>2</th>\n",
       "      <td>BERTIOGA</td>\n",
       "      <td>BORACÉIA - COL. MARISTA</td>\n",
       "      <td>2012-01-15</td>\n",
       "      <td>17.0</td>\n",
       "    </tr>\n",
       "    <tr>\n",
       "      <th>3</th>\n",
       "      <td>BERTIOGA</td>\n",
       "      <td>BORACÉIA - COL. MARISTA</td>\n",
       "      <td>2012-01-22</td>\n",
       "      <td>8.0</td>\n",
       "    </tr>\n",
       "    <tr>\n",
       "      <th>4</th>\n",
       "      <td>BERTIOGA</td>\n",
       "      <td>BORACÉIA - COL. MARISTA</td>\n",
       "      <td>2012-01-29</td>\n",
       "      <td>2.0</td>\n",
       "    </tr>\n",
       "  </tbody>\n",
       "</table>\n",
       "</div>"
      ],
      "text/plain": [
       "       City                    Beach        Date  Enterococcus\n",
       "0  BERTIOGA  BORACÉIA - COL. MARISTA  2012-01-03           8.0\n",
       "1  BERTIOGA  BORACÉIA - COL. MARISTA  2012-01-08          22.0\n",
       "2  BERTIOGA  BORACÉIA - COL. MARISTA  2012-01-15          17.0\n",
       "3  BERTIOGA  BORACÉIA - COL. MARISTA  2012-01-22           8.0\n",
       "4  BERTIOGA  BORACÉIA - COL. MARISTA  2012-01-29           2.0"
      ]
     },
     "execution_count": 75,
     "metadata": {},
     "output_type": "execute_result"
    }
   ],
   "source": [
    "#checando o início da dataframe\n",
    "analise_aguas.head()"
   ]
  },
  {
   "cell_type": "code",
   "execution_count": 77,
   "id": "170b5510-ee72-4404-8148-d244ec69a73a",
   "metadata": {},
   "outputs": [
    {
     "data": {
      "text/plain": [
       "City           Beach                    Date        Enterococcus\n",
       "BERTIOGA       BORACÉIA - COL. MARISTA  2012-01-03  8.0             1\n",
       "SÃO SEBASTIÃO  BORACÉIA - R. CUBATÃO    2015-08-09  3.0             1\n",
       "                                        2016-08-07  1.0             1\n",
       "                                        2016-07-31  1.0             1\n",
       "                                        2016-07-24  1.0             1\n",
       "                                                                   ..\n",
       "ILHABELA       PORTINHO                 2012-07-01  144.0           1\n",
       "                                        2012-06-24  22.0            1\n",
       "                                        2012-06-17  27.0            1\n",
       "                                        2012-06-10  212.0           1\n",
       "UBATUBA        VERMELHA DO NORTE        2021-07-19  1.0             1\n",
       "Name: count, Length: 74056, dtype: int64"
      ]
     },
     "execution_count": 77,
     "metadata": {},
     "output_type": "execute_result"
    }
   ],
   "source": [
    "analise_aguas.value_counts()"
   ]
  },
  {
   "cell_type": "code",
   "execution_count": 79,
   "id": "d10288a8-7751-460a-abb3-dc2d807d1e33",
   "metadata": {},
   "outputs": [
    {
     "data": {
      "text/plain": [
       "City            0\n",
       "Beach           0\n",
       "Date            0\n",
       "Enterococcus    0\n",
       "dtype: int64"
      ]
     },
     "execution_count": 79,
     "metadata": {},
     "output_type": "execute_result"
    }
   ],
   "source": [
    "#checando dados faltantes\n",
    "analise_aguas.isna().sum()"
   ]
  },
  {
   "cell_type": "code",
   "execution_count": 81,
   "id": "4676d47f-d451-4a03-82ee-7f80c168c12b",
   "metadata": {},
   "outputs": [
    {
     "data": {
      "text/plain": [
       "City             object\n",
       "Beach            object\n",
       "Date             object\n",
       "Enterococcus    float64\n",
       "dtype: object"
      ]
     },
     "execution_count": 81,
     "metadata": {},
     "output_type": "execute_result"
    }
   ],
   "source": [
    "analise_aguas.dtypes"
   ]
  },
  {
   "cell_type": "code",
   "execution_count": 83,
   "id": "04acc482-759a-4ad1-9818-cf2d3bc0c72e",
   "metadata": {},
   "outputs": [],
   "source": [
    "#checando as datas em que o valor de UFCs foi superior a 100\n",
    "analise_aguas.loc[analise_aguas['Enterococcus'] >= 100 , 'classif_agua'] = 'impropria'\n",
    "analise_aguas.loc[analise_aguas['Enterococcus'] < 100 , 'classif_agua'] = 'ok'\n"
   ]
  },
  {
   "cell_type": "code",
   "execution_count": 85,
   "id": "7c5cfcf1-d033-44c7-940a-2e67a87bc097",
   "metadata": {},
   "outputs": [
    {
     "data": {
      "text/html": [
       "<div>\n",
       "<style scoped>\n",
       "    .dataframe tbody tr th:only-of-type {\n",
       "        vertical-align: middle;\n",
       "    }\n",
       "\n",
       "    .dataframe tbody tr th {\n",
       "        vertical-align: top;\n",
       "    }\n",
       "\n",
       "    .dataframe thead th {\n",
       "        text-align: right;\n",
       "    }\n",
       "</style>\n",
       "<table border=\"1\" class=\"dataframe\">\n",
       "  <thead>\n",
       "    <tr style=\"text-align: right;\">\n",
       "      <th></th>\n",
       "      <th>City</th>\n",
       "      <th>Beach</th>\n",
       "      <th>Date</th>\n",
       "      <th>Enterococcus</th>\n",
       "      <th>classif_agua</th>\n",
       "    </tr>\n",
       "  </thead>\n",
       "  <tbody>\n",
       "    <tr>\n",
       "      <th>0</th>\n",
       "      <td>BERTIOGA</td>\n",
       "      <td>BORACÉIA - COL. MARISTA</td>\n",
       "      <td>2012-01-03</td>\n",
       "      <td>8.0</td>\n",
       "      <td>ok</td>\n",
       "    </tr>\n",
       "    <tr>\n",
       "      <th>1</th>\n",
       "      <td>BERTIOGA</td>\n",
       "      <td>BORACÉIA - COL. MARISTA</td>\n",
       "      <td>2012-01-08</td>\n",
       "      <td>22.0</td>\n",
       "      <td>ok</td>\n",
       "    </tr>\n",
       "    <tr>\n",
       "      <th>2</th>\n",
       "      <td>BERTIOGA</td>\n",
       "      <td>BORACÉIA - COL. MARISTA</td>\n",
       "      <td>2012-01-15</td>\n",
       "      <td>17.0</td>\n",
       "      <td>ok</td>\n",
       "    </tr>\n",
       "    <tr>\n",
       "      <th>3</th>\n",
       "      <td>BERTIOGA</td>\n",
       "      <td>BORACÉIA - COL. MARISTA</td>\n",
       "      <td>2012-01-22</td>\n",
       "      <td>8.0</td>\n",
       "      <td>ok</td>\n",
       "    </tr>\n",
       "    <tr>\n",
       "      <th>4</th>\n",
       "      <td>BERTIOGA</td>\n",
       "      <td>BORACÉIA - COL. MARISTA</td>\n",
       "      <td>2012-01-29</td>\n",
       "      <td>2.0</td>\n",
       "      <td>ok</td>\n",
       "    </tr>\n",
       "    <tr>\n",
       "      <th>5</th>\n",
       "      <td>BERTIOGA</td>\n",
       "      <td>BORACÉIA - COL. MARISTA</td>\n",
       "      <td>2012-02-05</td>\n",
       "      <td>1.0</td>\n",
       "      <td>ok</td>\n",
       "    </tr>\n",
       "    <tr>\n",
       "      <th>6</th>\n",
       "      <td>BERTIOGA</td>\n",
       "      <td>BORACÉIA - COL. MARISTA</td>\n",
       "      <td>2012-02-12</td>\n",
       "      <td>68.0</td>\n",
       "      <td>ok</td>\n",
       "    </tr>\n",
       "    <tr>\n",
       "      <th>7</th>\n",
       "      <td>BERTIOGA</td>\n",
       "      <td>BORACÉIA - COL. MARISTA</td>\n",
       "      <td>2012-02-19</td>\n",
       "      <td>32.0</td>\n",
       "      <td>ok</td>\n",
       "    </tr>\n",
       "    <tr>\n",
       "      <th>8</th>\n",
       "      <td>BERTIOGA</td>\n",
       "      <td>BORACÉIA - COL. MARISTA</td>\n",
       "      <td>2012-02-26</td>\n",
       "      <td>1.0</td>\n",
       "      <td>ok</td>\n",
       "    </tr>\n",
       "    <tr>\n",
       "      <th>9</th>\n",
       "      <td>BERTIOGA</td>\n",
       "      <td>BORACÉIA - COL. MARISTA</td>\n",
       "      <td>2012-03-04</td>\n",
       "      <td>1.0</td>\n",
       "      <td>ok</td>\n",
       "    </tr>\n",
       "  </tbody>\n",
       "</table>\n",
       "</div>"
      ],
      "text/plain": [
       "       City                    Beach        Date  Enterococcus classif_agua\n",
       "0  BERTIOGA  BORACÉIA - COL. MARISTA  2012-01-03           8.0           ok\n",
       "1  BERTIOGA  BORACÉIA - COL. MARISTA  2012-01-08          22.0           ok\n",
       "2  BERTIOGA  BORACÉIA - COL. MARISTA  2012-01-15          17.0           ok\n",
       "3  BERTIOGA  BORACÉIA - COL. MARISTA  2012-01-22           8.0           ok\n",
       "4  BERTIOGA  BORACÉIA - COL. MARISTA  2012-01-29           2.0           ok\n",
       "5  BERTIOGA  BORACÉIA - COL. MARISTA  2012-02-05           1.0           ok\n",
       "6  BERTIOGA  BORACÉIA - COL. MARISTA  2012-02-12          68.0           ok\n",
       "7  BERTIOGA  BORACÉIA - COL. MARISTA  2012-02-19          32.0           ok\n",
       "8  BERTIOGA  BORACÉIA - COL. MARISTA  2012-02-26           1.0           ok\n",
       "9  BERTIOGA  BORACÉIA - COL. MARISTA  2012-03-04           1.0           ok"
      ]
     },
     "execution_count": 85,
     "metadata": {},
     "output_type": "execute_result"
    }
   ],
   "source": [
    "#checando as colunas de classificação de água\n",
    "analise_aguas.head(10)"
   ]
  },
  {
   "cell_type": "code",
   "execution_count": 87,
   "id": "7c045626-93f3-47ba-8f6c-232357565c6f",
   "metadata": {},
   "outputs": [
    {
     "data": {
      "text/plain": [
       "classif_agua\n",
       "ok           63855\n",
       "impropria    10201\n",
       "Name: count, dtype: int64"
      ]
     },
     "execution_count": 87,
     "metadata": {},
     "output_type": "execute_result"
    }
   ],
   "source": [
    "#verificando as proporções de datas com qualidade da água impropria\n",
    "analise_aguas['classif_agua'].value_counts()"
   ]
  },
  {
   "cell_type": "code",
   "execution_count": 89,
   "id": "f761d759-1bc7-4e2e-90a7-a7375988d5db",
   "metadata": {},
   "outputs": [],
   "source": [
    "#A partir desses valores, vamos criar um dataframe apenas com os valores presentes na variável 'impropria'\n",
    "analise_aguas_improprias = analise_aguas['classif_agua'].isin(['impropria'])\n",
    "analise_nao_ok = analise_aguas[analise_aguas_improprias] \n",
    "\n"
   ]
  },
  {
   "cell_type": "code",
   "execution_count": 91,
   "id": "5c256538-29e1-440a-8e96-c4e17ed294e6",
   "metadata": {},
   "outputs": [
    {
     "data": {
      "text/html": [
       "<div>\n",
       "<style scoped>\n",
       "    .dataframe tbody tr th:only-of-type {\n",
       "        vertical-align: middle;\n",
       "    }\n",
       "\n",
       "    .dataframe tbody tr th {\n",
       "        vertical-align: top;\n",
       "    }\n",
       "\n",
       "    .dataframe thead th {\n",
       "        text-align: right;\n",
       "    }\n",
       "</style>\n",
       "<table border=\"1\" class=\"dataframe\">\n",
       "  <thead>\n",
       "    <tr style=\"text-align: right;\">\n",
       "      <th></th>\n",
       "      <th>City</th>\n",
       "      <th>Beach</th>\n",
       "      <th>Date</th>\n",
       "      <th>Enterococcus</th>\n",
       "      <th>classif_agua</th>\n",
       "    </tr>\n",
       "  </thead>\n",
       "  <tbody>\n",
       "    <tr>\n",
       "      <th>50</th>\n",
       "      <td>BERTIOGA</td>\n",
       "      <td>BORACÉIA - COL. MARISTA</td>\n",
       "      <td>2012-12-16</td>\n",
       "      <td>108.0</td>\n",
       "      <td>impropria</td>\n",
       "    </tr>\n",
       "    <tr>\n",
       "      <th>80</th>\n",
       "      <td>BERTIOGA</td>\n",
       "      <td>BORACÉIA - SUL</td>\n",
       "      <td>2012-07-08</td>\n",
       "      <td>120.0</td>\n",
       "      <td>impropria</td>\n",
       "    </tr>\n",
       "    <tr>\n",
       "      <th>87</th>\n",
       "      <td>BERTIOGA</td>\n",
       "      <td>BORACÉIA - SUL</td>\n",
       "      <td>2012-08-26</td>\n",
       "      <td>280.0</td>\n",
       "      <td>impropria</td>\n",
       "    </tr>\n",
       "    <tr>\n",
       "      <th>112</th>\n",
       "      <td>BERTIOGA</td>\n",
       "      <td>GUARATUBA</td>\n",
       "      <td>2012-02-12</td>\n",
       "      <td>100.0</td>\n",
       "      <td>impropria</td>\n",
       "    </tr>\n",
       "    <tr>\n",
       "      <th>186</th>\n",
       "      <td>BERTIOGA</td>\n",
       "      <td>SÃO LOURENÇO (JUNTO AO MORRO)</td>\n",
       "      <td>2012-07-08</td>\n",
       "      <td>152.0</td>\n",
       "      <td>impropria</td>\n",
       "    </tr>\n",
       "  </tbody>\n",
       "</table>\n",
       "</div>"
      ],
      "text/plain": [
       "         City                          Beach        Date  Enterococcus  \\\n",
       "50   BERTIOGA        BORACÉIA - COL. MARISTA  2012-12-16         108.0   \n",
       "80   BERTIOGA                 BORACÉIA - SUL  2012-07-08         120.0   \n",
       "87   BERTIOGA                 BORACÉIA - SUL  2012-08-26         280.0   \n",
       "112  BERTIOGA                      GUARATUBA  2012-02-12         100.0   \n",
       "186  BERTIOGA  SÃO LOURENÇO (JUNTO AO MORRO)  2012-07-08         152.0   \n",
       "\n",
       "    classif_agua  \n",
       "50     impropria  \n",
       "80     impropria  \n",
       "87     impropria  \n",
       "112    impropria  \n",
       "186    impropria  "
      ]
     },
     "execution_count": 91,
     "metadata": {},
     "output_type": "execute_result"
    }
   ],
   "source": [
    "#checando as primeiras 5 linhas do dataframe\n",
    "analise_nao_ok.head()"
   ]
  },
  {
   "cell_type": "code",
   "execution_count": 93,
   "id": "eda63a67-d9dd-48f9-9d5b-d04727865d4a",
   "metadata": {},
   "outputs": [
    {
     "data": {
      "text/plain": [
       "City             object\n",
       "Beach            object\n",
       "Date             object\n",
       "Enterococcus    float64\n",
       "classif_agua     object\n",
       "dtype: object"
      ]
     },
     "execution_count": 93,
     "metadata": {},
     "output_type": "execute_result"
    }
   ],
   "source": [
    "analise_nao_ok.dtypes"
   ]
  },
  {
   "cell_type": "code",
   "execution_count": 97,
   "id": "1b567049-64d5-4ebd-bcc8-deaa0a46e13b",
   "metadata": {},
   "outputs": [
    {
     "name": "stderr",
     "output_type": "stream",
     "text": [
      "C:\\Users\\User\\AppData\\Local\\Temp\\ipykernel_8472\\1780882746.py:1: SettingWithCopyWarning: \n",
      "A value is trying to be set on a copy of a slice from a DataFrame.\n",
      "Try using .loc[row_indexer,col_indexer] = value instead\n",
      "\n",
      "See the caveats in the documentation: https://pandas.pydata.org/pandas-docs/stable/user_guide/indexing.html#returning-a-view-versus-a-copy\n",
      "  analise_nao_ok['Date'] = analise_nao_ok['Date'].apply(lambda x: str(x).replace(\"-\",\"/\"))\n"
     ]
    }
   ],
   "source": [
    "#Transformando a coluna de datas para classificações anuais\n",
    "analise_nao_ok['Date'] = analise_nao_ok['Date'].apply(lambda x: str(x).replace(\"-\",\"/\"))"
   ]
  },
  {
   "cell_type": "code",
   "execution_count": 99,
   "id": "ef219a63-336b-4ea7-b3e6-18368e0b03af",
   "metadata": {},
   "outputs": [
    {
     "name": "stdout",
     "output_type": "stream",
     "text": [
      "          Date  ano_medicao\n",
      "50  2012-12-16         2012\n",
      "80  2012-07-08         2012\n",
      "87  2012-08-26         2012\n",
      "112 2012-02-12         2012\n",
      "186 2012-07-08         2012\n"
     ]
    },
    {
     "name": "stderr",
     "output_type": "stream",
     "text": [
      "C:\\Users\\User\\AppData\\Local\\Temp\\ipykernel_8472\\2099166015.py:2: SettingWithCopyWarning: \n",
      "A value is trying to be set on a copy of a slice from a DataFrame.\n",
      "Try using .loc[row_indexer,col_indexer] = value instead\n",
      "\n",
      "See the caveats in the documentation: https://pandas.pydata.org/pandas-docs/stable/user_guide/indexing.html#returning-a-view-versus-a-copy\n",
      "  analise_nao_ok['Date'] = pd.to_datetime(analise_nao_ok['Date'])\n",
      "C:\\Users\\User\\AppData\\Local\\Temp\\ipykernel_8472\\2099166015.py:5: SettingWithCopyWarning: \n",
      "A value is trying to be set on a copy of a slice from a DataFrame.\n",
      "Try using .loc[row_indexer,col_indexer] = value instead\n",
      "\n",
      "See the caveats in the documentation: https://pandas.pydata.org/pandas-docs/stable/user_guide/indexing.html#returning-a-view-versus-a-copy\n",
      "  analise_nao_ok['ano_medicao'] = analise_nao_ok['Date'].dt.year\n"
     ]
    }
   ],
   "source": [
    "# Transformando a coluna Date para o tipo datetime\n",
    "analise_nao_ok['Date'] = pd.to_datetime(analise_nao_ok['Date'])\n",
    "\n",
    "# Extraindo o ano\n",
    "analise_nao_ok['ano_medicao'] = analise_nao_ok['Date'].dt.year\n",
    "\n",
    "# Verificando o resultado\n",
    "print(analise_nao_ok[['Date', 'ano_medicao']].head())"
   ]
  },
  {
   "cell_type": "code",
   "execution_count": 101,
   "id": "363f9a1b-d1a3-4978-999d-267796cd1a33",
   "metadata": {},
   "outputs": [
    {
     "data": {
      "text/plain": [
       "ano_medicao\n",
       "2018    1475\n",
       "2019    1407\n",
       "2013    1152\n",
       "2015    1094\n",
       "2014    1082\n",
       "2012    1071\n",
       "2016     895\n",
       "2017     894\n",
       "2020     663\n",
       "2021     468\n",
       "Name: count, dtype: int64"
      ]
     },
     "execution_count": 101,
     "metadata": {},
     "output_type": "execute_result"
    }
   ],
   "source": [
    "analise_nao_ok['ano_medicao'].value_counts()"
   ]
  },
  {
   "cell_type": "code",
   "execution_count": 103,
   "id": "db598d09-ec75-4c67-af51-beb5278d58f7",
   "metadata": {},
   "outputs": [
    {
     "data": {
      "text/html": [
       "<div>\n",
       "<style scoped>\n",
       "    .dataframe tbody tr th:only-of-type {\n",
       "        vertical-align: middle;\n",
       "    }\n",
       "\n",
       "    .dataframe tbody tr th {\n",
       "        vertical-align: top;\n",
       "    }\n",
       "\n",
       "    .dataframe thead th {\n",
       "        text-align: right;\n",
       "    }\n",
       "</style>\n",
       "<table border=\"1\" class=\"dataframe\">\n",
       "  <thead>\n",
       "    <tr style=\"text-align: right;\">\n",
       "      <th></th>\n",
       "      <th>City</th>\n",
       "      <th>Beach</th>\n",
       "      <th>Date</th>\n",
       "      <th>Enterococcus</th>\n",
       "      <th>classif_agua</th>\n",
       "      <th>ano_medicao</th>\n",
       "    </tr>\n",
       "  </thead>\n",
       "  <tbody>\n",
       "    <tr>\n",
       "      <th>73927</th>\n",
       "      <td>UBATUBA</td>\n",
       "      <td>DOMINGAS DIAS</td>\n",
       "      <td>2021-05-31</td>\n",
       "      <td>224.0</td>\n",
       "      <td>impropria</td>\n",
       "      <td>2021</td>\n",
       "    </tr>\n",
       "    <tr>\n",
       "      <th>73934</th>\n",
       "      <td>UBATUBA</td>\n",
       "      <td>DOMINGAS DIAS</td>\n",
       "      <td>2021-07-19</td>\n",
       "      <td>204.0</td>\n",
       "      <td>impropria</td>\n",
       "      <td>2021</td>\n",
       "    </tr>\n",
       "    <tr>\n",
       "      <th>73939</th>\n",
       "      <td>UBATUBA</td>\n",
       "      <td>DURA</td>\n",
       "      <td>2021-02-08</td>\n",
       "      <td>132.0</td>\n",
       "      <td>impropria</td>\n",
       "      <td>2021</td>\n",
       "    </tr>\n",
       "    <tr>\n",
       "      <th>74041</th>\n",
       "      <td>UBATUBA</td>\n",
       "      <td>MARANDUBA</td>\n",
       "      <td>2021-05-24</td>\n",
       "      <td>144.0</td>\n",
       "      <td>impropria</td>\n",
       "      <td>2021</td>\n",
       "    </tr>\n",
       "    <tr>\n",
       "      <th>74049</th>\n",
       "      <td>UBATUBA</td>\n",
       "      <td>MARANDUBA</td>\n",
       "      <td>2021-07-19</td>\n",
       "      <td>192.0</td>\n",
       "      <td>impropria</td>\n",
       "      <td>2021</td>\n",
       "    </tr>\n",
       "  </tbody>\n",
       "</table>\n",
       "</div>"
      ],
      "text/plain": [
       "          City          Beach       Date  Enterococcus classif_agua  \\\n",
       "73927  UBATUBA  DOMINGAS DIAS 2021-05-31         224.0    impropria   \n",
       "73934  UBATUBA  DOMINGAS DIAS 2021-07-19         204.0    impropria   \n",
       "73939  UBATUBA           DURA 2021-02-08         132.0    impropria   \n",
       "74041  UBATUBA      MARANDUBA 2021-05-24         144.0    impropria   \n",
       "74049  UBATUBA      MARANDUBA 2021-07-19         192.0    impropria   \n",
       "\n",
       "       ano_medicao  \n",
       "73927         2021  \n",
       "73934         2021  \n",
       "73939         2021  \n",
       "74041         2021  \n",
       "74049         2021  "
      ]
     },
     "execution_count": 103,
     "metadata": {},
     "output_type": "execute_result"
    }
   ],
   "source": [
    "analise_nao_ok.tail()"
   ]
  },
  {
   "cell_type": "code",
   "execution_count": null,
   "id": "a8eb9e70-c4b6-4a1e-a670-e6342bea7dc4",
   "metadata": {},
   "outputs": [],
   "source": []
  }
 ],
 "metadata": {
  "kernelspec": {
   "display_name": "Python 3 (ipykernel)",
   "language": "python",
   "name": "python3"
  },
  "language_info": {
   "codemirror_mode": {
    "name": "ipython",
    "version": 3
   },
   "file_extension": ".py",
   "mimetype": "text/x-python",
   "name": "python",
   "nbconvert_exporter": "python",
   "pygments_lexer": "ipython3",
   "version": "3.11.7"
  }
 },
 "nbformat": 4,
 "nbformat_minor": 5
}
